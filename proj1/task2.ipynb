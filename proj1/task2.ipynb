{
 "cells": [
  {
   "cell_type": "code",
   "execution_count": 1,
   "metadata": {},
   "outputs": [],
   "source": [
    "from knn import KNN\n",
    "import pandas as pd\n",
    "from sklearn.model_selection import train_test_split\n",
    "from sklearn.metrics import accuracy_score\n",
    "import utils\n",
    "import numpy as np"
   ]
  },
  {
   "cell_type": "code",
   "execution_count": 3,
   "metadata": {},
   "outputs": [],
   "source": [
    "df_train = pd.read_csv('training.csv')\n",
    "X_train = df_train.values[:, 0:2].astype(float)  # I want all rows but only the first two cols\n",
    "y_train = df_train.values[:, -1] # all rows, last col\n",
    "# X.shape, y.shape  # (2800, 2) : NxD, (2800, ) : Nx1"
   ]
  },
  {
   "cell_type": "code",
   "execution_count": 4,
   "metadata": {},
   "outputs": [
    {
     "data": {
      "text/plain": [
       "((480, 2), (480,))"
      ]
     },
     "execution_count": 4,
     "metadata": {},
     "output_type": "execute_result"
    }
   ],
   "source": [
    "df_valid = pd.read_csv('validation.csv')\n",
    "X_val = df_valid.values[:, 0:2]\n",
    "y_val = df_valid.values[:, -1]\n",
    "X_val.shape, y_val.shape"
   ]
  },
  {
   "cell_type": "code",
   "execution_count": 6,
   "metadata": {},
   "outputs": [
    {
     "name": "stdout",
     "output_type": "stream",
     "text": [
      "Validation accuracy: 0.8270833333333333, k=23, p=5\n"
     ]
    },
    {
     "data": {
      "text/plain": [
       "(480,)"
      ]
     },
     "execution_count": 6,
     "metadata": {},
     "output_type": "execute_result"
    }
   ],
   "source": [
    "# I use the validation set to tune the hyperparameters (k)\n",
    "best_acc = 0.0\n",
    "for k in list(range(1, 30)):\n",
    "    for p in list(range(1, 10)):\n",
    "        knn_model = KNN(k)\n",
    "        knn_model.train(X_train, y_train)\n",
    "        y_pred = knn_model.predict(X_val, p)\n",
    "        acc = accuracy_score(y_val, y_pred)\n",
    "        # print(f\"accuracy is {acc} with k={k}\")\n",
    "        if acc > best_acc:\n",
    "            best_acc = acc\n",
    "            best_k = k\n",
    "            best_p = p\n",
    "print(f\"Validation accuracy: {best_acc}, k={best_k}, p={best_p}\")\n",
    "y_pred.shape"
   ]
  },
  {
   "cell_type": "code",
   "execution_count": 16,
   "metadata": {},
   "outputs": [],
   "source": [
    "# Create a grid of testing points\n",
    "h=.02 # space in the grid\n",
    "x_min = X_train[:, 0].min() - 1 \n",
    "x_max = X_train[:, 0].max() + 1\n",
    "y_min = X_train[:, 1].min() - 1 \n",
    "y_max = X_train[:, 1].max() + 1\n",
    "# xx is the x-axis coordinate of the points in the test set\n",
    "# yy is the y-axis coordinate of the points in the test set\n",
    "xx, yy = np.meshgrid(np.arange(x_min, x_max, h), np.arange(y_min, y_max, h))\n",
    "# X_test contains the test set inputs (xx,yy)\n",
    "X_test_ = np.c_[xx.ravel(), yy.ravel()]\n",
    "\n",
    "\n",
    "# utils.plot_results(xx, yy, X_train, y_train, best_ypred, \"k=\" + str(k))"
   ]
  }
 ],
 "metadata": {
  "kernelspec": {
   "display_name": "Python 3",
   "language": "python",
   "name": "python3"
  },
  "language_info": {
   "codemirror_mode": {
    "name": "ipython",
    "version": 3
   },
   "file_extension": ".py",
   "mimetype": "text/x-python",
   "name": "python",
   "nbconvert_exporter": "python",
   "pygments_lexer": "ipython3",
   "version": "3.11.3"
  }
 },
 "nbformat": 4,
 "nbformat_minor": 2
}
