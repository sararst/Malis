{
 "cells": [
  {
   "cell_type": "markdown",
   "id": "b645da4b-3c6a-4d00-98e6-bf9530bba0ef",
   "metadata": {},
   "source": [
    "Use this notebook to run experiments and plot results easily. You do not need to submit it, but you may use some of the generated plots in your report."
   ]
  },
  {
   "cell_type": "code",
   "execution_count": 1,
   "id": "ebcb15a0-3758-47b0-baf7-32a665842aa3",
   "metadata": {},
   "outputs": [],
   "source": [
    "import utils\n",
    "import numpy as np"
   ]
  },
  {
   "cell_type": "markdown",
   "id": "0ded6b3b-1ccd-4665-bb1c-4e3450a794b9",
   "metadata": {},
   "source": [
    "You can use the routine below to plot your results. Be careful to respect the naming conventions of the variables. This means X - training inputs, y - training labels, X_test - test inputs and y_test - predicted labels"
   ]
  },
  {
   "cell_type": "code",
   "execution_count": null,
   "id": "c89abfe0-d30e-4bd9-9cc6-e93600a75024",
   "metadata": {},
   "outputs": [],
   "source": [
    "# Create a grid of testing points\n",
    "h=.02 # space in the grid\n",
    "x_min, x_max = X[:, 0].min() - 1, X[:, 0].max() + 1\n",
    "y_min, y_max = X[:, 1].min() - 1, X[:, 1].max() + 1\n",
    "# xx is the x-axis coordinate of the points in the test set\n",
    "# yy is the y-axis coordinate of the points in the test set\n",
    "xx, yy = np.meshgrid(np.arange(x_min, x_max, h),\n",
    "                     np.arange(y_min, y_max, h))\n",
    "# X_test contains the test set inputs (xx,yy)\n",
    "X_test = np.c_[xx.ravel(), yy.ravel()]"
   ]
  },
  {
   "cell_type": "code",
   "execution_count": null,
   "id": "e820e1ec-44e0-4b7a-902b-ff553da88291",
   "metadata": {},
   "outputs": [],
   "source": [
    "utils.plot_results(xx,yy, X, y, y_test_k3, \"k=\" + str(k))"
   ]
  },
  {
   "cell_type": "code",
   "execution_count": null,
   "id": "5897b8db-56bd-4d87-ab1c-e80f48c0abdd",
   "metadata": {},
   "outputs": [],
   "source": []
  }
 ],
 "metadata": {
  "kernelspec": {
   "display_name": "Python 3 (ipykernel)",
   "language": "python",
   "name": "python3"
  },
  "language_info": {
   "codemirror_mode": {
    "name": "ipython",
    "version": 3
   },
   "file_extension": ".py",
   "mimetype": "text/x-python",
   "name": "python",
   "nbconvert_exporter": "python",
   "pygments_lexer": "ipython3",
   "version": "3.11.3"
  }
 },
 "nbformat": 4,
 "nbformat_minor": 5
}
