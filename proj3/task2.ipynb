{
 "cells": [
  {
   "cell_type": "code",
   "execution_count": 9,
   "metadata": {},
   "outputs": [],
   "source": [
    "import pandas as pd \n",
    "from sklearn.model_selection import train_test_split, KFold\n",
    "from sklearn.preprocessing import PolynomialFeatures\n",
    "from sklearn.linear_model import Ridge, Lasso\n",
    "from ridge import Ridge_\n",
    "from sklearn.metrics import mean_absolute_error, mean_squared_error\n",
    "from math import inf\n",
    "import matplotlib.pyplot as plt\n",
    "import numpy as np"
   ]
  },
  {
   "cell_type": "code",
   "execution_count": 10,
   "metadata": {},
   "outputs": [],
   "source": [
    "predictor = 'Year'\n",
    "target = 'Time'"
   ]
  },
  {
   "cell_type": "code",
   "execution_count": 11,
   "metadata": {},
   "outputs": [],
   "source": [
    "df = pd.read_csv('olympics_100m.csv', sep=',')\n",
    "X = df[predictor].values\n",
    "y = df[target].values"
   ]
  },
  {
   "cell_type": "code",
   "execution_count": 12,
   "metadata": {},
   "outputs": [],
   "source": [
    "X_train, X_test, y_train, y_test = train_test_split(X, y, test_size=0.2, random_state=42, shuffle=True)\n",
    "X_train, X_val, y_train, y_val = train_test_split(X_train, y_train, test_size=0.25, shuffle=True, random_state=42)"
   ]
  },
  {
   "cell_type": "code",
   "execution_count": 13,
   "metadata": {},
   "outputs": [],
   "source": [
    "# Centering and normalizing the data\n",
    "x_mean = X_train.mean()\n",
    "x_std = X_train.std()\n",
    "\n",
    "# scale the data\n",
    "X_train = (X_train - x_mean) / x_std\n",
    "X_train = X_train.reshape(len(X_train), 1)\n",
    "\n",
    "X_test = (X_test - x_mean) / x_std\n",
    "X_test = X_test.reshape(len(X_test), 1)\n",
    "\n",
    "X_val = (X_val - x_mean) / x_std\n",
    "X_val = X_val.reshape(len(X_val), 1)"
   ]
  },
  {
   "cell_type": "code",
   "execution_count": 14,
   "metadata": {},
   "outputs": [],
   "source": [
    "poly = PolynomialFeatures(1)\n",
    "X_train = poly.fit_transform(X_train)\n",
    "X_test = poly.fit_transform(X_test)\n",
    "X_val = poly.fit_transform(X_val)"
   ]
  },
  {
   "cell_type": "code",
   "execution_count": 15,
   "metadata": {},
   "outputs": [],
   "source": [
    "lambda_values = [10**i for i in range(-15, 3)]\n",
    "mae_errors = []\n",
    "mse_errors = []\n",
    "k = 5  # number of folds\n",
    "k_fold = KFold(n_splits = k)\n",
    "\n",
    "# check that k is not greater than the number of samples\n",
    "if k > len(X_train):\n",
    "    raise ValueError(\"Number of folds cannot be greater than number of samples\")\n",
    "\n",
    "for train_k, val_k in k_fold.split(X_train):\n",
    "    X_train_fold, X_val_fold = X_train[train_k], X_train[val_k]\n",
    "    y_train_fold, y_val_fold = y_train[train_k], y_train[val_k]\n",
    "    for l in lambda_values:\n",
    "        # train the model with the current lambda value\n",
    "        ridge_model = Ridge_(l)\n",
    "        w = ridge_model.ridge_fit(X_train_fold, y_train_fold)\n",
    "\n",
    "        # predict on the validation set\n",
    "        pred = ridge_model.ridge_predict(X_val_fold)\n",
    "\n",
    "        mae_e = mean_absolute_error(y_val_fold, pred)\n",
    "        mse_e = mean_squared_error(y_val_fold, pred)\n",
    "        mae_errors.append(mae_e)\n",
    "        mse_errors.append(mse_e)\n",
    "\n",
    "# calculate the average error for each lambda value across the k folds\n",
    "avg_errors_mae = np.mean(np.array(mae_errors).reshape((k, len(lambda_values))), axis=0)  \n",
    "avg_errors_mse = np.mean(np.array(mse_errors).reshape((k, len(lambda_values))), axis=0)\n",
    "\n",
    "# select the lambda value with the lowest average error\n",
    "best_l_mae = lambda_values[np.argmin(avg_errors_mae)] \n",
    "best_l_mse = lambda_values[np.argmin(avg_errors_mse)]"
   ]
  },
  {
   "cell_type": "code",
   "execution_count": 16,
   "metadata": {},
   "outputs": [
    {
     "name": "stdout",
     "output_type": "stream",
     "text": [
      "Best lambda values: MAE: 1, MSE: 1\n"
     ]
    }
   ],
   "source": [
    "print(f\"Best lambda values: MAE: {best_l_mae}, MSE: {best_l_mse}\", )\n",
    "best_l = best_l_mae if best_l_mae < best_l_mse else best_l_mse"
   ]
  },
  {
   "cell_type": "code",
   "execution_count": 17,
   "metadata": {},
   "outputs": [],
   "source": [
    "# train the model with the best lambda value found\n",
    "ridge_model = Ridge_(best_l)\n",
    "w = ridge_model.ridge_fit(X_train, y_train)\n",
    "\n",
    "# predict on the validation set\n",
    "pred_val = ridge_model.ridge_predict(X_val)\n",
    "mae_val = mean_absolute_error(y_val, pred_val)\n",
    "mse_val = mean_squared_error(y_val, pred_val)\n",
    "\n",
    "# predict on the test set\n",
    "pred_test = ridge_model.ridge_predict(X_test)\n",
    "mae_test = mean_absolute_error(y_test, pred_test)\n",
    "mse_test = mean_squared_error(y_test, pred_test)"
   ]
  },
  {
   "cell_type": "code",
   "execution_count": 18,
   "metadata": {},
   "outputs": [
    {
     "data": {
      "text/html": [
       "<div>\n",
       "<style scoped>\n",
       "    .dataframe tbody tr th:only-of-type {\n",
       "        vertical-align: middle;\n",
       "    }\n",
       "\n",
       "    .dataframe tbody tr th {\n",
       "        vertical-align: top;\n",
       "    }\n",
       "\n",
       "    .dataframe thead th {\n",
       "        text-align: right;\n",
       "    }\n",
       "</style>\n",
       "<table border=\"1\" class=\"dataframe\">\n",
       "  <thead>\n",
       "    <tr style=\"text-align: right;\">\n",
       "      <th></th>\n",
       "      <th>Set</th>\n",
       "      <th>MAE</th>\n",
       "      <th>MSE</th>\n",
       "    </tr>\n",
       "  </thead>\n",
       "  <tbody>\n",
       "    <tr>\n",
       "      <th>0</th>\n",
       "      <td>Validation</td>\n",
       "      <td>0.112679</td>\n",
       "      <td>0.017421</td>\n",
       "    </tr>\n",
       "    <tr>\n",
       "      <th>1</th>\n",
       "      <td>Test</td>\n",
       "      <td>0.181308</td>\n",
       "      <td>0.052111</td>\n",
       "    </tr>\n",
       "  </tbody>\n",
       "</table>\n",
       "</div>"
      ],
      "text/plain": [
       "          Set       MAE       MSE\n",
       "0  Validation  0.112679  0.017421\n",
       "1        Test  0.181308  0.052111"
      ]
     },
     "execution_count": 18,
     "metadata": {},
     "output_type": "execute_result"
    }
   ],
   "source": [
    "# Create a DataFrame to store the metrics\n",
    "metrics = pd.DataFrame({\n",
    "    'Set': ['Validation', 'Test'],\n",
    "    'MAE': [mae_val, mae_test],\n",
    "    'MSE': [mse_val, mse_test],\n",
    "})\n",
    "metrics"
   ]
  },
  {
   "cell_type": "code",
   "execution_count": 19,
   "metadata": {},
   "outputs": [
    {
     "name": "stdout",
     "output_type": "stream",
     "text": [
      "Bias: -0.5135442150287475, Weights: 10.302352941176467\n"
     ]
    }
   ],
   "source": [
    "\n",
    "print(f\"Bias: {w[1]}, Weights: {w[0]}\")"
   ]
  },
  {
   "cell_type": "code",
   "execution_count": 20,
   "metadata": {},
   "outputs": [
    {
     "data": {
      "text/plain": [
       "<matplotlib.legend.Legend at 0x1cb9f505640>"
      ]
     },
     "execution_count": 20,
     "metadata": {},
     "output_type": "execute_result"
    },
    {
     "data": {
      "image/png": "[encoded data removed]",
      "text/plain": [
       "<Figure size 640x480 with 1 Axes>"
      ]
     },
     "metadata": {},
     "output_type": "display_data"
    }
   ],
   "source": [
    "y_hat = ridge_model.ridge_predict(X_train)\n",
    "plt.tight_layout()\n",
    "plt.plot(X_train[:, 1]*x_std+x_mean, y_hat, label='Train Predictions')\n",
    "plt.plot(X_test[:, 1]*x_std+x_mean, pred_test, 'x', label='Test Predictions')\n",
    "plt.plot(X_train[:, 1]*x_std+x_mean, y_train, '.', label='Train Data')\n",
    "plt.plot(X_test[:, 1]*x_std+x_mean, y_test, '.', label='Test Data')\n",
    "plt.xlabel(\"Year\")\n",
    "plt.ylabel(\"Time\")\n",
    "plt.title(f\"Lambda: {best_l} - MAE: {mae_test:.4f} - MSE: {mse_test:.4f}\")\n",
    "plt.legend()"
   ]
  },
  {
   "cell_type": "code",
   "execution_count": 21,
   "metadata": {},
   "outputs": [
    {
     "data": {
      "text/html": [
       "<div>\n",
       "<style scoped>\n",
       "    .dataframe tbody tr th:only-of-type {\n",
       "        vertical-align: middle;\n",
       "    }\n",
       "\n",
       "    .dataframe tbody tr th {\n",
       "        vertical-align: top;\n",
       "    }\n",
       "\n",
       "    .dataframe thead th {\n",
       "        text-align: right;\n",
       "    }\n",
       "</style>\n",
       "<table border=\"1\" class=\"dataframe\">\n",
       "  <thead>\n",
       "    <tr style=\"text-align: right;\">\n",
       "      <th></th>\n",
       "      <th>Set</th>\n",
       "      <th>MAE</th>\n",
       "      <th>MSE</th>\n",
       "    </tr>\n",
       "  </thead>\n",
       "  <tbody>\n",
       "    <tr>\n",
       "      <th>0</th>\n",
       "      <td>Validation</td>\n",
       "      <td>0.112679</td>\n",
       "      <td>0.017421</td>\n",
       "    </tr>\n",
       "    <tr>\n",
       "      <th>1</th>\n",
       "      <td>Test</td>\n",
       "      <td>0.181308</td>\n",
       "      <td>0.052111</td>\n",
       "    </tr>\n",
       "  </tbody>\n",
       "</table>\n",
       "</div>"
      ],
      "text/plain": [
       "          Set       MAE       MSE\n",
       "0  Validation  0.112679  0.017421\n",
       "1        Test  0.181308  0.052111"
      ]
     },
     "execution_count": 21,
     "metadata": {},
     "output_type": "execute_result"
    }
   ],
   "source": [
    "# test with sklearn\n",
    "ridge_model2 = Ridge(alpha=best_l)\n",
    "ridge_model2.fit(X_train[:, 1].reshape(-1, 1), y_train)\n",
    "\n",
    "sklearn_pred_val = ridge_model2.predict(X_val[:, 1].reshape(-1, 1))\n",
    "\n",
    "sklearn_pred_test = ridge_model2.predict(X_test[:, 1].reshape(-1, 1))\n",
    "# difference between our model predicions and sklearn ones\n",
    "diff_val = pred_val - sklearn_pred_val\n",
    "diff_test = pred_test - sklearn_pred_test\n",
    "\n",
    "\n",
    "mae_val_skl = mean_absolute_error(sklearn_pred_val, pred_val)\n",
    "mse_val_skl = mean_squared_error(sklearn_pred_val, pred_val)\n",
    "mae_test_skl = mean_absolute_error(sklearn_pred_test, pred_test)\n",
    "mse_test_skl = mean_squared_error(sklearn_pred_test, pred_test)\n",
    "\n",
    "# Create a DataFrame to store the metrics\n",
    "metrics_sklearn = pd.DataFrame({\n",
    "    'Set': ['Validation', 'Test'],\n",
    "    'MAE': [mae_val_skl, mae_test_skl],\n",
    "    'MSE': [mse_val_skl, mse_test_skl],\n",
    "})\n",
    "metrics"
   ]
  },
  {
   "cell_type": "code",
   "execution_count": 22,
   "metadata": {},
   "outputs": [
    {
     "name": "stdout",
     "output_type": "stream",
     "text": [
      "Sklearn Bias: [-0.51354422], our model bias: -0.5135442150287475 --> difference: [-2.22044605e-16],\n",
      " Sklearn Weights: 10.30235294117647, our model weights: 10.302352941176467 --> difference: 1.7763568394002505e-15\n"
     ]
    }
   ],
   "source": [
    "print(f\"Sklearn Bias: {ridge_model2.coef_}, our model bias: {w[1]} --> difference: {ridge_model2.coef_ - w[1]},\\n Sklearn Weights: {ridge_model2.intercept_}, our model weights: {w[0]} --> difference: {ridge_model2.intercept_ - w[0]}\")"
   ]
  },
  {
   "cell_type": "code",
   "execution_count": 23,
   "metadata": {},
   "outputs": [],
   "source": [
    "# comparison with lasso\n",
    "lasso_model = Lasso(alpha=best_l)\n",
    "lasso_model.fit(X_train[:, 1].reshape(-1, 1), y_train)\n",
    "lasso_model.intercept_, lasso_model.coef_\n",
    "lasso_predictions = lasso_model.predict(X_test[:, 1].reshape(-1, 1))"
   ]
  },
  {
   "cell_type": "code",
   "execution_count": 24,
   "metadata": {},
   "outputs": [
    {
     "name": "stdout",
     "output_type": "stream",
     "text": [
      "MAE lasso: 0.3477098056011612, MSE lasso: 0.3477098056011612\n"
     ]
    },
    {
     "data": {
      "text/plain": [
       "0.34770980560115916"
      ]
     },
     "execution_count": 24,
     "metadata": {},
     "output_type": "execute_result"
    }
   ],
   "source": [
    "mae_lasso = mean_absolute_error(sklearn_pred_test, lasso_predictions)\n",
    "mse_lasso = mean_absolute_error(sklearn_pred_test, lasso_predictions)\n",
    "print(f\"MAE lasso: {mae_lasso}, MSE lasso: {mse_lasso}\")\n",
    "mae_lasso - mae_test_skl"
   ]
  }
 ],
 "metadata": {
  "kernelspec": {
   "display_name": "malis",
   "language": "python",
   "name": "python3"
  },
  "language_info": {
   "codemirror_mode": {
    "name": "ipython",
    "version": 3
   },
   "file_extension": ".py",
   "mimetype": "text/x-python",
   "name": "python",
   "nbconvert_exporter": "python",
   "pygments_lexer": "ipython3",
   "version": "3.8.18"
  }
 },
 "nbformat": 4,
 "nbformat_minor": 2
}
